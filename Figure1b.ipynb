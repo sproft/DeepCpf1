{
 "cells": [
  {
   "cell_type": "code",
   "execution_count": 4,
   "metadata": {},
   "outputs": [],
   "source": [
    "%matplotlib inline\n",
    "\n",
    "import numpy as np\n",
    "import matplotlib.pyplot as plt\n",
    "\n",
    "import innvestigate.utils as iutils\n",
    "import innvestigate.utils.tests.networks.imagenet\n",
    "import innvestigate.utils.visualizations as ivis\n",
    "import sys\n",
    "\n",
    "\n",
    "\n",
    "from keras.models import Model\n",
    "from keras.layers import Input\n",
    "from keras.layers.merge import Multiply\n",
    "from keras.layers.core import Dense, Dropout, Activation, Flatten\n",
    "from keras.layers.convolutional import Convolution1D, AveragePooling1D\n",
    "\n",
    "plt.rcParams[\"figure.figsize\"] = (17, 20)\n",
    "\n",
    "\n"
   ]
  },
  {
   "cell_type": "code",
   "execution_count": 26,
   "metadata": {},
   "outputs": [],
   "source": [
    "def PREPROCESS(lines):\n",
    "    data_n = len(lines) - 1\n",
    "    SEQ = zeros((data_n, 34, 4), dtype=int)\n",
    "    CA = zeros((data_n, 1), dtype=float)\n",
    "    \n",
    "    for l in range(1, data_n+1):\n",
    "        data = lines[l].split()\n",
    "        seq = data[0]\n",
    "        for i in range(34):\n",
    "            if seq[i] in \"Aa\":\n",
    "                SEQ[l-1, i, 0] = 1\n",
    "            elif seq[i] in \"Cc\":\n",
    "                SEQ[l-1, i, 1] = 1\n",
    "            elif seq[i] in \"Gg\":\n",
    "                SEQ[l-1, i, 2] = 1\n",
    "            elif seq[i] in \"Tt\":\n",
    "                SEQ[l-1, i, 3] = 1\n",
    "        CA[l-1,0] = float(data[1])\n",
    "\n",
    "    return SEQ, CA"
   ]
  },
  {
   "cell_type": "code",
   "execution_count": 29,
   "metadata": {},
   "outputs": [
    {
     "name": "stdout",
     "output_type": "stream",
     "text": [
      "Usage: python DeepCpf1.py input.txt output.txt\ninput.txt must include 3 columns with single header row\n\t1st column: sequence index\n\t2nd column: 34bp target sequence\n\t3rd column: binary chromain information of the target sequence\n\nDeepCpf1 currently requires python=2.7.12, theano=0.7.0, keras=0.3.3\nDeepCpf1 available on GitHub requires pre-obtained binary chromatin information (DNase-seq narraow peak data from ENCODE)\nDeepCpf1 web tool, available at http://data.snu.ac.kr/DeepCpf1, provides entire pipeline including binary chromatin accessibility for 125 cell lines\n\nBuilding models\n"
     ]
    },
    {
     "name": "stdout",
     "output_type": "stream",
     "text": [
      "Loading training data\nCompiling Model\nTraining on training data"
     ]
    },
    {
     "name": "stdout",
     "output_type": "stream",
     "text": [
      "\n"
     ]
    },
    {
     "data": {
      "text/plain": [
       "<keras.callbacks.History at 0x261542e8>"
      ]
     },
     "execution_count": 29,
     "metadata": {},
     "output_type": "execute_result"
    }
   ],
   "source": [
    "print(\"Usage: python DeepCpf1.py input.txt output.txt\")\n",
    "print(\"input.txt must include 3 columns with single header row\")\n",
    "print(\"\\t1st column: sequence index\")\n",
    "print(\"\\t2nd column: 34bp target sequence\")\n",
    "print(\"\\t3rd column: binary chromain information of the target sequence\\n\")\n",
    "\n",
    "print(\"DeepCpf1 currently requires python=2.7.12, theano=0.7.0, keras=0.3.3\")\n",
    "print(\"DeepCpf1 available on GitHub requires pre-obtained binary chromatin information (DNase-seq narraow peak data from ENCODE)\")\n",
    "print(\"DeepCpf1 web tool, available at http://data.snu.ac.kr/DeepCpf1, provides entire pipeline including binary chromatin accessibility for 125 cell lines\\n\")\n",
    "\n",
    "if len(sys.argv) < 3:\n",
    "    sys.exit()\n",
    "\n",
    "print(\"Building models\")\n",
    "Seq_deepCpf1_Input_SEQ = Input(shape=(34,4))\n",
    "Seq_deepCpf1_C1 = Convolution1D(80, 5, activation='relu')(Seq_deepCpf1_Input_SEQ)\n",
    "Seq_deepCpf1_P1 = AveragePooling1D(2)(Seq_deepCpf1_C1)\n",
    "Seq_deepCpf1_F = Flatten()(Seq_deepCpf1_P1)\n",
    "Seq_deepCpf1_DO1= Dropout(0.3)(Seq_deepCpf1_F)\n",
    "Seq_deepCpf1_D1 = Dense(80, activation='relu')(Seq_deepCpf1_DO1)\n",
    "Seq_deepCpf1_DO2= Dropout(0.3)(Seq_deepCpf1_D1)\n",
    "Seq_deepCpf1_D2 = Dense(40, activation='relu')(Seq_deepCpf1_DO2)\n",
    "Seq_deepCpf1_DO3= Dropout(0.3)(Seq_deepCpf1_D2)\n",
    "Seq_deepCpf1_D3 = Dense(40, activation='relu')(Seq_deepCpf1_DO3)\n",
    "Seq_deepCpf1_DO4= Dropout(0.3)(Seq_deepCpf1_D3)\n",
    "Seq_deepCpf1_Output = Dense(1, activation='linear')(Seq_deepCpf1_DO4)\n",
    "Seq_deepCpf1 = Model(inputs=[Seq_deepCpf1_Input_SEQ], outputs=[Seq_deepCpf1_Output])\n",
    "\n",
    "DeepCpf1_Input_SEQ = Input(shape=(34,4))\n",
    "DeepCpf1_C1 = Convolution1D(80, 5, activation='relu')(DeepCpf1_Input_SEQ)\n",
    "DeepCpf1_P1 = AveragePooling1D(2)(DeepCpf1_C1)\n",
    "DeepCpf1_F = Flatten()(DeepCpf1_P1)\n",
    "DeepCpf1_DO1= Dropout(0.3)(DeepCpf1_F)\n",
    "DeepCpf1_D1 = Dense(80, activation='relu')(DeepCpf1_DO1)\n",
    "DeepCpf1_DO2= Dropout(0.3)(DeepCpf1_D1)\n",
    "DeepCpf1_D2 = Dense(40, activation='relu')(DeepCpf1_DO2)\n",
    "DeepCpf1_DO3= Dropout(0.3)(DeepCpf1_D2)\n",
    "DeepCpf1_D3_SEQ = Dense(40, activation='relu')(DeepCpf1_DO3)\n",
    "\n",
    "DeepCpf1_Input_CA = Input(shape=(1,))\n",
    "DeepCpf1_D3_CA = Dense(40, activation='relu')(DeepCpf1_Input_CA)\n",
    "DeepCpf1_M = Multiply()([DeepCpf1_D3_SEQ, DeepCpf1_D3_CA])\n",
    "\n",
    "DeepCpf1_DO4= Dropout(0.3)(DeepCpf1_M)\n",
    "DeepCpf1_Output = Dense(1, activation='linear')(DeepCpf1_DO4)\n",
    "DeepCpf1 = Model(inputs=[DeepCpf1_Input_SEQ, DeepCpf1_Input_CA], outputs=[DeepCpf1_Output])\n",
    "\n",
    "#print(\"Loading weights for the models\")\n",
    "#Seq_deepCpf1.load_weights('weights/Seq_deepCpf1_weights.h5')\n",
    "#DeepCpf1.load_weights('weights/DeepCpf1_weights.h5')\n",
    "\n",
    "print(\"Loading training data\")\n",
    "FILE = open(\"training.txt\", \"r\")\n",
    "data = FILE.readlines()\n",
    "SEQ, CA = PREPROCESS(data)\n",
    "FILE.close()\n",
    "\n",
    "print(\"Compiling Model\")\n",
    "Seq_deepCpf1.compile(optimizer='adam', loss='mean_squared_error')\n",
    "\n",
    "#print(\"Training on training data\")\n",
    "#Seq_deepCpf1.fit(SEQ, CA, batch_size=50, verbose=0)\n",
    "#DeepCpf1_SCORE = DeepCpf1.predict([SEQ, CA], batch_size=50, verbose=0) * 3"
   ]
  },
  {
   "cell_type": "code",
   "execution_count": 46,
   "metadata": {},
   "outputs": [
    {
     "name": "stdout",
     "output_type": "stream",
     "text": [
      "Training on training data\n"
     ]
    }
   ],
   "source": [
    "from sklearn.model_selection import train_test_split\n",
    "from sklearn.model_selection import cross_val_score\n",
    "from sklearn import svm\n",
    "\n",
    "SEQ_train, SEQ_validation, CA_train, CA_validation = train_test_split(SEQ, CA, test_size=0.10, random_state=0)\n",
    "\n",
    "#clf = svm.SVC(kernel='linear', C=1)\n",
    "#scores = cross_val_score(clf, SEQ_train, CA_train, cv=5)\n",
    "#print(scores)\n",
    "\n",
    "print(\"Training on training data\")\n",
    "#Seq_deepCpf1.fit(SEQ[validation], CA[validation], batch_size=50, verbose=0)"
   ]
  },
  {
   "cell_type": "code",
   "execution_count": null,
   "metadata": {},
   "outputs": [],
   "source": [
    ""
   ]
  },
  {
   "cell_type": "code",
   "execution_count": null,
   "metadata": {},
   "outputs": [],
   "source": []
  }
 ],
 "metadata": {},
 "nbformat": 4,
 "nbformat_minor": 0
}
