{
 "cells": [
  {
   "cell_type": "code",
   "execution_count": 11,
   "metadata": {
    "scrolled": false
   },
   "outputs": [],
   "source": [
    "%matplotlib inline\n",
    "\n",
    "import numpy as np\n",
    "#from Feature_Extraction import *\n",
    "from sklearn.ensemble import GradientBoostingRegressor\n",
    "from scipy.stats import spearmanr\n",
    "from Bio.SeqUtils import MeltingTemp as mt\n",
    "import matplotlib.pyplot as plt\n",
    "\n",
    "\n",
    "FILE = open(\"Figure1b/Cross_Validation_Example_Code/Hyperparameter_Candidates_BoostedRT.txt\", \"r\")\n",
    "Models = FILE.readlines()\n",
    "FILE.close()"
   ]
  },
  {
   "cell_type": "code",
   "execution_count": 12,
   "metadata": {},
   "outputs": [],
   "source": [
    "def Feature_Extraction(lines):\n",
    "    lines = list(lines)\n",
    "    data_n = len(lines)\n",
    "    DATA_X = np.zeros((data_n,34,4), dtype=int)\n",
    "    DATA_Y = np.zeros((data_n,), dtype=float)\n",
    "    energy = np.zeros((data_n,), dtype=float)\n",
    "    SEQ = []\n",
    "    \n",
    "    for l in range(data_n):\n",
    "        data = lines[l].split()\n",
    "        seq = data[0]\n",
    "        SEQ.append(seq)\n",
    "        for i in range(34):\n",
    "            if seq[i] in \"Aa\":   DATA_X[l, i, 0] = 1\n",
    "            elif seq[i] in \"Cc\": DATA_X[l, i, 1] = 1\n",
    "            elif seq[i] in \"Gg\": DATA_X[l, i, 2] = 1\n",
    "            elif seq[i] in \"Tt\": DATA_X[l, i, 3] = 1\n",
    "        DATA_Y[l] = float(data[1])\n",
    "        energy[l] = float(data[2])\n",
    "    \n",
    "    #Feature Extraction\n",
    "    DATA_X_FE = np.zeros((data_n,689), dtype=float)\n",
    "    for l in range(data_n):\n",
    "        #position-independent nucleotides and dinucleotides (4 + 4^2 = 20)\n",
    "        for i in range(4):\n",
    "            DATA_X_FE[l,i] = sum(DATA_X[l,:,i])\n",
    "        for i in range(4,20):\n",
    "            DATA_X_FE[l,i] = Dinucleotide_FE(DATA_X[l], int((i-4)/4), int((i-4)%4))\n",
    "            \n",
    "        #position-dependent nucleotides and dinucleotides ( 4*34 + (4^2 * 33) = 664)\n",
    "        for i in range(20, 156):\n",
    "            DATA_X_FE[l,i] = DATA_X[l, int((i-20)/4), int((i-20)%4)]\n",
    "        for i in range(156,684):\n",
    "            DATA_X_FE[l,i] = Dinucleotide_FE(DATA_X[l, int((i-156)/16):int((i-156)/16+2), :], int(((i-156)%16)/4), int(((i-156)%16)%4))\n",
    "            \n",
    "        #Melting temperatiure (1)\n",
    "        DATA_X_FE[l,684] = mt.Tm_NN(SEQ[l])\n",
    "           \n",
    "        #GC count (3)\n",
    "        DATA_X_FE[l,685] = SEQ[l].count(\"G\") + SEQ[l].count(\"g\") + SEQ[l].count(\"C\") + SEQ[l].count(\"c\")\n",
    "        if DATA_X_FE[l,685] <= 9:\n",
    "            DATA_X_FE[l,686] = 1\n",
    "            DATA_X_FE[l,687] = 0\n",
    "        else:\n",
    "            DATA_X_FE[l,686] = 0\n",
    "            DATA_X_FE[l,687] = 1\n",
    "            \n",
    "        #Free energy\n",
    "        #DATA_X_FE[l,688] = RNA.fold(SEQ[l])[1]\n",
    "        DATA_X_FE[l,688] = energy[l]\n",
    "\n",
    "    return DATA_X_FE, DATA_Y\n",
    "\n",
    "def Dinucleotide_FE(X, a, b):\n",
    "    num = 0\n",
    "    for i in range(X.shape[0]-1):\n",
    "        if X[i,a] == 1 and X[i+1,b] == 1:\n",
    "            num += 1\n",
    "    return num"
   ]
  },
  {
   "cell_type": "code",
   "execution_count": 21,
   "metadata": {},
   "outputs": [],
   "source": [
    "import random\n",
    "\n",
    "IDX = [500, 1000, 2000, 4000, 8000, 13500]\n",
    "#IDX = [50, 100]\n",
    "\n",
    "innerFolds = 2\n",
    "outerFolds = 2\n",
    "\n",
    "#split training data\n",
    "def split_data(rand=False):\n",
    "    infile = open(\"Figure1b/training_energy.txt\", \"r\")\n",
    "    data = infile.readlines()[1:]\n",
    "    infile.close()\n",
    "    \n",
    "    if rand:\n",
    "        random.shuffle(data)\n",
    "    \n",
    "    valdata = np.array(data[:1500])\n",
    "    data = np.array(data[1500:])\n",
    "    \n",
    "    for idx in range(len(IDX)):\n",
    "        for f in range(outerFolds):\n",
    "            \n",
    "            n = int(len(valdata)/outerFolds)\n",
    "            valind = range(f*n, f*n+n)\n",
    "            trainind = [x for x in range(len(valdata)) if x not in valind]\n",
    "            \n",
    "            file = open(\"DATA/%s_NestedCV_OuterFold%d_Validation.txt\" % (idx, f), \"w\")\n",
    "            file.write(\"\".join(valdata[valind]))\n",
    "            file.close()\n",
    "            \n",
    "            file = open(\"DATA/%s_NestedCV_OuterFold%d_Train.txt\" % (idx, f), \"w\")\n",
    "            file.write(\"\".join(valdata[trainind]))\n",
    "            file.close()\n",
    "            \n",
    "            for i in range(innerFolds):\n",
    "                part = data[:IDX[idx]]\n",
    "                \n",
    "                n = int(len(part)/innerFolds)\n",
    "                valind = range(i*n, i*n+n)\n",
    "                trainind = [x for x in range(len(part)) if x not in valind]\n",
    "                \n",
    "                file = open(\"DATA/%s_NestedCV_OuterFold%d_InnerFold%d_Validation.txt\" % (idx, f, i), \"w\")\n",
    "                file.write(\"\".join(part[valind]))\n",
    "                file.close()\n",
    "\n",
    "                file = open(\"DATA/%s_NestedCV_OuterFold%d_InnerFold%d_Train.txt\" % (idx, f, i), \"w\")\n",
    "                file.write(\"\".join(part[trainind]))\n",
    "                file.close()\n",
    "\n",
    "\n",
    "split_data(True)"
   ]
  },
  {
   "cell_type": "code",
   "execution_count": 22,
   "metadata": {},
   "outputs": [
    {
     "name": "stdout",
     "output_type": "stream",
     "text": [
      "0 0.6534369343902733\n"
     ]
    },
    {
     "name": "stdout",
     "output_type": "stream",
     "text": [
      "1 0.6796905635881443\n"
     ]
    },
    {
     "name": "stdout",
     "output_type": "stream",
     "text": [
      "2 0.6873795391781562\n"
     ]
    },
    {
     "name": "stdout",
     "output_type": "stream",
     "text": [
      "3 0.684154188315659\n"
     ]
    },
    {
     "name": "stdout",
     "output_type": "stream",
     "text": [
      "4 0.6823705841777689\n"
     ]
    },
    {
     "name": "stdout",
     "output_type": "stream",
     "text": [
      "5 0.6644770497698953\n"
     ]
    }
   ],
   "source": [
    "# -----------------------------------------------------\n",
    "# Nested Cross-validation\n",
    "# -----------------------------------------------------\n",
    "\n",
    "all_Results = []\n",
    "for idx in range(len(IDX)):\n",
    "\n",
    "    NestedCV_Results = []\n",
    "    # Outer 10-fold CV\n",
    "    for f in range(outerFolds):\n",
    "        \n",
    "        Model_Selection_Results = [0.0] * len(Models)\n",
    "        # Inner 5-fold CV\n",
    "        for i in range(innerFolds):\n",
    "            # Load inner CV training data\n",
    "            FILE = open(\"DATA/%s_NestedCV_OuterFold%d_InnerFold%d_Train.txt\" % (idx, f, i), \"r\")\n",
    "            data = FILE.readlines()\n",
    "            TRAIN_DATA_X, TRAIN_DATA_Y = Feature_Extraction(data)\n",
    "            FILE.close()\n",
    "\n",
    "            # Load inner CV validation data\n",
    "            FILE = open(\"DATA/%s_NestedCV_OuterFold%d_InnerFold%d_Validation.txt\" % (idx, f, i), \"r\")\n",
    "            data = FILE.readlines()\n",
    "            VAL_DATA_X, VAL_DATA_Y = Feature_Extraction(data)\n",
    "            FILE.close()\n",
    "                \n",
    "            # Model hyperparameter selection\n",
    "            for m in range(len(Models)):   \n",
    "                Tokens = Models[m].strip().split()\n",
    "                model = GradientBoostingRegressor(n_estimators = int(Tokens[0]), max_depth = int(Tokens[1]), min_samples_split = int(Tokens[2]), min_samples_leaf = int(Tokens[3]), max_features = Tokens[4])\n",
    "                \n",
    "                # Training\n",
    "                model.fit(TRAIN_DATA_X, TRAIN_DATA_Y) \n",
    "\n",
    "                # Validation\n",
    "                val_result = spearmanr(VAL_DATA_Y, model.predict(VAL_DATA_X))[0]\n",
    "                Model_Selection_Results[m] += val_result\n",
    "            \n",
    "            \n",
    "        # Select best performing model from inner 5-fold CV     \n",
    "        Best_Model = np.argmax(Model_Selection_Results)\n",
    "        Tokens = Models[int(Best_Model)].strip().split()\n",
    "        model = GradientBoostingRegressor(n_estimators = int(Tokens[0]), max_depth = int(Tokens[1]), min_samples_split = int(Tokens[2]), min_samples_leaf = int(Tokens[3]), max_features = Tokens[4])\n",
    "\n",
    "        # Load outer CV training data\n",
    "        FILE = open(\"DATA/%s_NestedCV_OuterFold%d_Train.txt\" % (idx, f), \"r\")\n",
    "        data = FILE.readlines()\n",
    "        TRAIN_DATA_X, TRAIN_DATA_Y = Feature_Extraction(data)\n",
    "        FILE.close()\n",
    "\n",
    "        # Load outer CV validation data\n",
    "        FILE = open(\"DATA/%s_NestedCV_OuterFold%d_Validation.txt\" % (idx, f), \"r\")\n",
    "        data = FILE.readlines()\n",
    "        VAL_DATA_X, VAL_DATA_Y = Feature_Extraction(data)\n",
    "        FILE.close()\n",
    "                \n",
    "        # Training\n",
    "        model.fit(TRAIN_DATA_X, TRAIN_DATA_Y) \n",
    "\n",
    "        # Validation\n",
    "        val_result = spearmanr(VAL_DATA_Y, model.predict(VAL_DATA_X))[0]\n",
    "        NestedCV_Results.append(val_result)\n",
    "        \n",
    "    all_Results.append(NestedCV_Results)\n",
    "    print(idx, np.average(NestedCV_Results))"
   ]
  },
  {
   "cell_type": "code",
   "execution_count": 23,
   "metadata": {},
   "outputs": [
    {
     "data": {
      "image/png": "[encoded data removed]",
      "text/plain": [
       "<Figure size 1080x720 with 1 Axes>"
      ]
     },
     "metadata": {},
     "output_type": "display_data"
    }
   ],
   "source": [
    "plt.rcParams[\"figure.figsize\"] = (15, 10)\n",
    "\n",
    "plt.errorbar(IDX, np.mean(all_Results, axis=1), yerr=np.std(all_Results, axis=1), marker='^', label=\"Regression Tree\")\n",
    "\n",
    "plt.ylabel(\"Spearman Correlation\")\n",
    "plt.xlabel(\"Training Set [#Seqs]\")\n",
    "plt.legend()\n",
    "\n",
    "plt.show()"
   ]
  },
  {
   "cell_type": "code",
   "execution_count": null,
   "metadata": {},
   "outputs": [],
   "source": []
  }
 ],
 "metadata": {
  "kernelspec": {
   "display_name": "Python 2",
   "language": "python",
   "name": "python2"
  },
  "language_info": {
   "codemirror_mode": {
    "name": "ipython",
    "version": 2
   },
   "file_extension": ".py",
   "mimetype": "text/x-python",
   "name": "python",
   "nbconvert_exporter": "python",
   "pygments_lexer": "ipython2",
   "version": "2.7.12"
  }
 },
 "nbformat": 4,
 "nbformat_minor": 1
}
