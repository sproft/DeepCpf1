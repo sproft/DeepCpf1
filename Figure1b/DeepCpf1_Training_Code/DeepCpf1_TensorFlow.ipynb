{
 "cells": [
  {
   "cell_type": "code",
   "execution_count": null,
   "metadata": {
    "collapsed": false,
    "deletable": true,
    "editable": true
   },
   "outputs": [],
   "source": [
    "from DeepCpf1_processing import *\n",
    "import os\n",
    "from os.path import exists\n",
    "\n",
    "#Parameters\n",
    "nt_order = \"ATGC\"\n",
    "DATA_len = 34\n",
    "DATA_offset = 0\n",
    "\n",
    "#TensorFlow config\n",
    "conf = tf.ConfigProto()\n",
    "conf.gpu_options.per_process_gpu_memory_fraction = 0.05\n",
    "conf.gpu_options.allow_growth = True\n",
    "os.environ['CUDA_VISIBLE_DEVICES'] = '0'\n",
    "tf.logging.set_verbosity(tf.logging.ERROR)"
   ]
  },
  {
   "cell_type": "code",
   "execution_count": null,
   "metadata": {
    "collapsed": false,
    "deletable": true,
    "editable": true,
    "scrolled": true
   },
   "outputs": [],
   "source": [
    "# -----------------------------------------------------\n",
    "# Seq-deepCpf1 PreTrain\n",
    "# -----------------------------------------------------\n",
    "if exists(\"model_checkpoints/PreTrain-Final.meta\"):\n",
    "    sys.exit()\n",
    "\n",
    "FILE = open(\"PreTrain_DATA.txt\", \"r\")\n",
    "data = FILE.readlines()\n",
    "DATA_X, DATA_Y, _ = PREPROCESS(data, DATA_len, DATA_offset)\n",
    "FILE.close()\n",
    "\n",
    "train_n = int(DATA_X.shape[0] * 0.9)\n",
    "TRAIN_DATA_X, TRAIN_DATA_Y = DATA_X[:train_n], DATA_Y[:train_n]\n",
    "VAL_DATA_X, VAL_DATA_Y = DATA_X[train_n:], DATA_Y[train_n:]\n",
    "\n",
    "tf.reset_default_graph()\n",
    "with tf.Session(config=conf) as sess:\n",
    "    model = Seq_deepCpf1()\n",
    "    sess.run(tf.global_variables_initializer())\n",
    "    Model_PreTrain(sess, model, TRAIN_DATA_X, TRAIN_DATA_Y, VAL_DATA_X, VAL_DATA_Y)"
   ]
  },
  {
   "cell_type": "code",
   "execution_count": null,
   "metadata": {
    "collapsed": false,
    "deletable": true,
    "editable": true,
    "scrolled": false
   },
   "outputs": [],
   "source": [
    "# -----------------------------------------------------\n",
    "# DepCpf1 FineTune\n",
    "# -----------------------------------------------------\n",
    "if exists(\"model_checkpoints/FineTune-Final.meta\"):\n",
    "    sys.exit()\n",
    "\n",
    "FILE = open(\"FineTune_DATA.txt\", \"r\")\n",
    "data = FILE.readlines()\n",
    "FILE.close()\n",
    "\n",
    "TRAIN_DATA_X, TRAIN_DATA_Y, TRAIN_DATA_CA = PREPROCESS(data, DATA_len, DATA_offset)\n",
    "\n",
    "tf.reset_default_graph()  \n",
    "with tf.Session(config=conf) as sess:    \n",
    "    model = DeepCpf1()\n",
    "    sess.run(tf.global_variables_initializer())\n",
    "    \n",
    "    Var_list = {v.op.name: v for v in tf.trainable_variables() if \"CA\" not in v.op.name}\n",
    "    saver = tf.train.Saver(Var_list)\n",
    "    saver.restore(sess, \"model_checkpoints/PreTrain-Final\")\n",
    "    \n",
    "    Model_FineTune(sess, model, TRAIN_DATA_X, TRAIN_DATA_Y, TRAIN_DATA_CA)    "
   ]
  },
  {
   "cell_type": "code",
   "execution_count": null,
   "metadata": {
    "collapsed": false,
    "deletable": true,
    "editable": true,
    "scrolled": false
   },
   "outputs": [],
   "source": [
    "# -----------------------------------------------------\n",
    "# DeepCpf1 / Seq-deepCpf1 Prediction\n",
    "# -----------------------------------------------------\n",
    "TEST_LIST = [\"TEST_DATA\"]\n",
    "\n",
    "for TEST in TEST_LIST:\n",
    "    FILE = open(\"%s.txt\" % TEST, \"r\")\n",
    "    data = FILE.readlines()\n",
    "    FILE.close()\n",
    "\n",
    "    TEST_DATA_X, _, TEST_DATA_CA = PREPROCESS(data, DATA_len, DATA_offset)\n",
    "    TEST_PREDICTIONS = []\n",
    "\n",
    "    for mode in [\"DeepCpf1\", \"Seq-deepCpf1\"]:\n",
    "        tf.reset_default_graph()  \n",
    "        with tf.Session(config=conf) as sess:\n",
    "            model = Model_Load(sess, mode)\n",
    "            TEST_PREDICTIONS.append(Model_Prediction(sess, model, mode, TEST_DATA_X, TEST_DATA_CA))\n",
    "\n",
    "    OUT = open(\"%s_Predictions.txt\" % TEST, \"w\")\n",
    "    OUT.write(\"%s\\tDeepCpf1\\tSeq-deepCpf1\\n\" % data[0].strip())\n",
    "    for l in range(1, len(data)):\n",
    "        OUT.write(\"%s\\t%f\\t%f\\n\" % (data[l].strip(), TEST_PREDICTIONS[0][l-1], TEST_PREDICTIONS[1][l-1]))\n",
    "    OUT.close()"
   ]
  }
 ],
 "metadata": {
  "kernelspec": {
   "display_name": "Python 2",
   "language": "python",
   "name": "python2"
  },
  "language_info": {
   "codemirror_mode": {
    "name": "ipython",
    "version": 2
   },
   "file_extension": ".py",
   "mimetype": "text/x-python",
   "name": "python",
   "nbconvert_exporter": "python",
   "pygments_lexer": "ipython2",
   "version": "2.7.12"
  }
 },
 "nbformat": 4,
 "nbformat_minor": 0
}
