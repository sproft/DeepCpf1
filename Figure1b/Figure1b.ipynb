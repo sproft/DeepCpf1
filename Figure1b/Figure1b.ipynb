{
 "cells": [
  {
   "cell_type": "code",
   "execution_count": 13,
   "metadata": {},
   "outputs": [],
   "source": [
    "%matplotlib inline\n",
    "\n",
    "import numpy as np\n",
    "import matplotlib.pyplot as plt\n",
    "\n",
    "import innvestigate.utils as iutils\n",
    "import innvestigate.utils.tests.networks.imagenet\n",
    "import innvestigate.utils.visualizations as ivis\n",
    "import sys\n",
    "\n",
    "from keras.callbacks import EarlyStopping\n",
    "from keras.models import Model\n",
    "from keras.layers import Input\n",
    "from keras.layers.merge import Multiply\n",
    "from keras.layers.core import Dense, Dropout, Activation, Flatten\n",
    "from keras.layers.convolutional import Convolution1D, AveragePooling1D\n",
    "\n",
    "from Bio.SeqUtils import MeltingTemp as mt\n",
    "import random\n",
    "\n",
    "from keras import backend as K\n",
    "\n",
    "from sklearn.model_selection import KFold\n",
    "from sklearn.ensemble import GradientBoostingRegressor\n",
    "from sklearn import linear_model"
   ]
  },
  {
   "cell_type": "code",
   "execution_count": 2,
   "metadata": {},
   "outputs": [],
   "source": [
    "def PREPROCESS(lines, header=True):\n",
    "    data_n = len(lines)\n",
    "    if header:\n",
    "        data_n = data_n - 1\n",
    "    SEQ = np.zeros((data_n, 34, 4), dtype=int)\n",
    "    CA = np.zeros((data_n, 1), dtype=float)\n",
    "    \n",
    "    for l in range(0, data_n):\n",
    "        if header:\n",
    "            data = lines[l+1].split()\n",
    "        else:\n",
    "            data = lines[l].split()\n",
    "        seq = data[0]\n",
    "        for i in range(34):\n",
    "            if seq[i] in \"Aa\":\n",
    "                SEQ[l, i, 0] = 1\n",
    "            elif seq[i] in \"Cc\":\n",
    "                SEQ[l, i, 1] = 1\n",
    "            elif seq[i] in \"Gg\":\n",
    "                SEQ[l, i, 2] = 1\n",
    "            elif seq[i] in \"Tt\":\n",
    "                SEQ[l, i, 3] = 1\n",
    "        CA[l,0] = float(data[1])\n",
    "\n",
    "    return SEQ, CA"
   ]
  },
  {
   "cell_type": "code",
   "execution_count": 3,
   "metadata": {},
   "outputs": [],
   "source": [
    "def Feature_Extraction(lines):\n",
    "    lines = list(lines)\n",
    "    data_n = len(lines)\n",
    "    DATA_X = np.zeros((data_n,34,4), dtype=int)\n",
    "    DATA_Y = np.zeros((data_n,), dtype=float)\n",
    "    energy = np.zeros((data_n,), dtype=float)\n",
    "    SEQ = []\n",
    "    \n",
    "    for l in range(data_n):\n",
    "        data = lines[l].split()\n",
    "        seq = data[0]\n",
    "        SEQ.append(seq)\n",
    "        for i in range(34):\n",
    "            if seq[i] in \"Aa\":   DATA_X[l, i, 0] = 1\n",
    "            elif seq[i] in \"Cc\": DATA_X[l, i, 1] = 1\n",
    "            elif seq[i] in \"Gg\": DATA_X[l, i, 2] = 1\n",
    "            elif seq[i] in \"Tt\": DATA_X[l, i, 3] = 1\n",
    "        DATA_Y[l] = float(data[1])\n",
    "        energy[l] = float(data[2])\n",
    "    \n",
    "    #Feature Extraction\n",
    "    DATA_X_FE = np.zeros((data_n,689), dtype=float)\n",
    "    for l in range(data_n):\n",
    "        #position-independent nucleotides and dinucleotides (4 + 4^2 = 20)\n",
    "        for i in range(4):\n",
    "            DATA_X_FE[l,i] = sum(DATA_X[l,:,i])\n",
    "        for i in range(4,20):\n",
    "            DATA_X_FE[l,i] = Dinucleotide_FE(DATA_X[l], int((i-4)/4), int((i-4)%4))\n",
    "            \n",
    "        #position-dependent nucleotides and dinucleotides ( 4*34 + (4^2 * 33) = 664)\n",
    "        for i in range(20, 156):\n",
    "            DATA_X_FE[l,i] = DATA_X[l, int((i-20)/4), int((i-20)%4)]\n",
    "        for i in range(156,684):\n",
    "            DATA_X_FE[l,i] = Dinucleotide_FE(DATA_X[l, int((i-156)/16):int((i-156)/16+2), :], int(((i-156)%16)/4), int(((i-156)%16)%4))\n",
    "            \n",
    "        #Melting temperatiure (1)\n",
    "        DATA_X_FE[l,684] = mt.Tm_NN(SEQ[l])\n",
    "           \n",
    "        #GC count (3)\n",
    "        DATA_X_FE[l,685] = SEQ[l].count(\"G\") + SEQ[l].count(\"g\") + SEQ[l].count(\"C\") + SEQ[l].count(\"c\")\n",
    "        if DATA_X_FE[l,685] <= 9:\n",
    "            DATA_X_FE[l,686] = 1\n",
    "            DATA_X_FE[l,687] = 0\n",
    "        else:\n",
    "            DATA_X_FE[l,686] = 0\n",
    "            DATA_X_FE[l,687] = 1\n",
    "            \n",
    "        #Free energy\n",
    "        #DATA_X_FE[l,688] = RNA.fold(SEQ[l])[1]\n",
    "        DATA_X_FE[l,688] = energy[l]\n",
    "\n",
    "    return DATA_X_FE, DATA_Y\n",
    "\n",
    "def Dinucleotide_FE(X, a, b):\n",
    "    num = 0\n",
    "    for i in range(X.shape[0]-1):\n",
    "        if X[i,a] == 1 and X[i+1,b] == 1:\n",
    "            num += 1\n",
    "    return num"
   ]
  },
  {
   "cell_type": "code",
   "execution_count": 4,
   "metadata": {},
   "outputs": [
    {
     "name": "stdout",
     "output_type": "stream",
     "text": [
      "Usage: python DeepCpf1.py input.txt output.txt\ninput.txt must include 3 columns with single header row\n\t1st column: sequence index\n\t2nd column: 34bp target sequence\n\t3rd column: binary chromain information of the target sequence\n\nDeepCpf1 currently requires python=2.7.12, theano=0.7.0, keras=0.3.3\nDeepCpf1 available on GitHub requires pre-obtained binary chromatin information (DNase-seq narraow peak data from ENCODE)\nDeepCpf1 web tool, available at http://data.snu.ac.kr/DeepCpf1, provides entire pipeline including binary chromatin accessibility for 125 cell lines\n\nBuilding models\n"
     ]
    },
    {
     "name": "stdout",
     "output_type": "stream",
     "text": [
      "Loading training data\n"
     ]
    }
   ],
   "source": [
    "print(\"Usage: python DeepCpf1.py input.txt output.txt\")\n",
    "print(\"input.txt must include 3 columns with single header row\")\n",
    "print(\"\\t1st column: sequence index\")\n",
    "print(\"\\t2nd column: 34bp target sequence\")\n",
    "print(\"\\t3rd column: binary chromain information of the target sequence\\n\")\n",
    "\n",
    "print(\"DeepCpf1 currently requires python=2.7.12, theano=0.7.0, keras=0.3.3\")\n",
    "print(\"DeepCpf1 available on GitHub requires pre-obtained binary chromatin information (DNase-seq narraow peak data from ENCODE)\")\n",
    "print(\"DeepCpf1 web tool, available at http://data.snu.ac.kr/DeepCpf1, provides entire pipeline including binary chromatin accessibility for 125 cell lines\\n\")\n",
    "\n",
    "if len(sys.argv) < 3:\n",
    "    sys.exit()\n",
    "\n",
    "print(\"Building models\")\n",
    "Seq_deepCpf1_Input_SEQ = Input(shape=(34,4))\n",
    "Seq_deepCpf1_C1 = Convolution1D(80, 5, activation='relu')(Seq_deepCpf1_Input_SEQ)\n",
    "Seq_deepCpf1_P1 = AveragePooling1D(2)(Seq_deepCpf1_C1)\n",
    "Seq_deepCpf1_F = Flatten()(Seq_deepCpf1_P1)\n",
    "Seq_deepCpf1_DO1= Dropout(0.3)(Seq_deepCpf1_F)\n",
    "Seq_deepCpf1_D1 = Dense(80, activation='relu')(Seq_deepCpf1_DO1)\n",
    "Seq_deepCpf1_DO2= Dropout(0.3)(Seq_deepCpf1_D1)\n",
    "Seq_deepCpf1_D2 = Dense(40, activation='relu')(Seq_deepCpf1_DO2)\n",
    "Seq_deepCpf1_DO3= Dropout(0.3)(Seq_deepCpf1_D2)\n",
    "Seq_deepCpf1_D3 = Dense(40, activation='relu')(Seq_deepCpf1_DO3)\n",
    "Seq_deepCpf1_DO4= Dropout(0.3)(Seq_deepCpf1_D3)\n",
    "Seq_deepCpf1_Output = Dense(1, activation='linear')(Seq_deepCpf1_DO4)\n",
    "Seq_deepCpf1 = Model(inputs=[Seq_deepCpf1_Input_SEQ], outputs=[Seq_deepCpf1_Output])\n",
    "\n",
    "DeepCpf1_Input_SEQ = Input(shape=(34,4))\n",
    "DeepCpf1_C1 = Convolution1D(80, 5, activation='relu')(DeepCpf1_Input_SEQ)\n",
    "DeepCpf1_P1 = AveragePooling1D(2)(DeepCpf1_C1)\n",
    "DeepCpf1_F = Flatten()(DeepCpf1_P1)\n",
    "DeepCpf1_DO1= Dropout(0.3)(DeepCpf1_F)\n",
    "DeepCpf1_D1 = Dense(80, activation='relu')(DeepCpf1_DO1)\n",
    "DeepCpf1_DO2= Dropout(0.3)(DeepCpf1_D1)\n",
    "DeepCpf1_D2 = Dense(40, activation='relu')(DeepCpf1_DO2)\n",
    "DeepCpf1_DO3= Dropout(0.3)(DeepCpf1_D2)\n",
    "DeepCpf1_D3_SEQ = Dense(40, activation='relu')(DeepCpf1_DO3)\n",
    "\n",
    "DeepCpf1_Input_CA = Input(shape=(1,))\n",
    "DeepCpf1_D3_CA = Dense(40, activation='relu')(DeepCpf1_Input_CA)\n",
    "DeepCpf1_M = Multiply()([DeepCpf1_D3_SEQ, DeepCpf1_D3_CA])\n",
    "\n",
    "DeepCpf1_DO4= Dropout(0.3)(DeepCpf1_M)\n",
    "DeepCpf1_Output = Dense(1, activation='linear')(DeepCpf1_DO4)\n",
    "DeepCpf1 = Model(inputs=[DeepCpf1_Input_SEQ, DeepCpf1_Input_CA], outputs=[DeepCpf1_Output])\n",
    "\n",
    "#print(\"Loading weights for the models\")\n",
    "Seq_deepCpf1.load_weights('weights/Seq_deepCpf1_weights.h5')\n",
    "DeepCpf1.load_weights('weights/DeepCpf1_weights.h5')\n",
    "\n",
    "print(\"Loading training data\")\n",
    "FILE = open(\"Figure1b/training.txt\", \"r\")\n",
    "data = FILE.readlines()\n",
    "SEQ, IF = PREPROCESS(data)\n",
    "FILE.close()"
   ]
  },
  {
   "cell_type": "code",
   "execution_count": 5,
   "metadata": {},
   "outputs": [],
   "source": [
    "\n",
    "# Use scikit-learn to grid search the batch size and epochs\n",
    "from keras.wrappers.scikit_learn import KerasClassifier\n",
    "import tensorflow as tf\n",
    "\n",
    "\n",
    "# custom metric\n",
    "def spear_corr(y_true, y_pred):\n",
    "    tensor = tf.shape(y_pred)\n",
    "    samples = tf.gather(tensor, 1)\n",
    "\n",
    "    predictions_rank = tf.nn.top_k(y_pred, k=samples, sorted=True, name='prediction_rank').indices\n",
    "    real_rank = tf.nn.top_k(y_true, k=samples, sorted=True, name='real_rank').indices\n",
    "    rank_diffs = predictions_rank - real_rank\n",
    "    rank_diffs_squared_sum = tf.reduce_sum(rank_diffs * rank_diffs)\n",
    "    six = tf.constant(6)\n",
    "    one = tf.constant(1.0)\n",
    "    numerator = tf.cast(six * rank_diffs_squared_sum, dtype=tf.float32)\n",
    "    divider = tf.cast(samples * samples * samples - samples, dtype=tf.float32)\n",
    "    spearman_batch = one - numerator / divider\n",
    "    return spearman_batch\n",
    "\n",
    "\n",
    "# Function to create model, required for KerasClassifier\n",
    "def create_model():\n",
    "    # create model\n",
    "    Seq_deepCpf1_Input_SEQ = Input(shape=(34,4))\n",
    "    Seq_deepCpf1_C1 = Convolution1D(80, 5, activation='relu')(Seq_deepCpf1_Input_SEQ)\n",
    "    Seq_deepCpf1_P1 = AveragePooling1D(2)(Seq_deepCpf1_C1)\n",
    "    Seq_deepCpf1_F = Flatten()(Seq_deepCpf1_P1)\n",
    "    Seq_deepCpf1_DO1= Dropout(0.3)(Seq_deepCpf1_F)\n",
    "    Seq_deepCpf1_D1 = Dense(80, activation='relu')(Seq_deepCpf1_DO1)\n",
    "    Seq_deepCpf1_DO2= Dropout(0.3)(Seq_deepCpf1_D1)\n",
    "    Seq_deepCpf1_D2 = Dense(40, activation='relu')(Seq_deepCpf1_DO2)\n",
    "    Seq_deepCpf1_DO3= Dropout(0.3)(Seq_deepCpf1_D2)\n",
    "    Seq_deepCpf1_D3 = Dense(40, activation='relu')(Seq_deepCpf1_DO3)\n",
    "    Seq_deepCpf1_DO4= Dropout(0.3)(Seq_deepCpf1_D3)\n",
    "    Seq_deepCpf1_Output = Dense(1, activation='linear')(Seq_deepCpf1_DO4)\n",
    "    Seq_deepCpf1 = Model(inputs=[Seq_deepCpf1_Input_SEQ], outputs=[Seq_deepCpf1_Output])\n",
    "    Seq_deepCpf1.compile(optimizer='adam', loss='mean_squared_error', metrics=['acc'])\n",
    "    return Seq_deepCpf1"
   ]
  },
  {
   "cell_type": "code",
   "execution_count": 6,
   "metadata": {},
   "outputs": [],
   "source": [
    "from scipy.stats import spearmanr\n",
    "\n",
    "callback = EarlyStopping(monitor='val_loss', min_delta=0, patience=5, verbose=0, mode='auto', baseline=None)\n",
    "\n",
    "\n",
    "def train_and_evaluate_model(model, x_train, y_train, x_test, y_test):\n",
    "    batch = len(x_train) // 10\n",
    "    model.fit(x_train, y_train, validation_data=(x_test, y_test), verbose=0, callbacks=[callback], batch_size=batch, epochs=10000000)\n",
    "    model_score = model.predict(x_test, batch_size=500, verbose=0)\n",
    "    rho, p = spearmanr(model_score, y_test)\n",
    "    return rho"
   ]
  },
  {
   "cell_type": "code",
   "execution_count": 7,
   "metadata": {},
   "outputs": [
    {
     "name": "stdout",
     "output_type": "stream",
     "text": [
      "Training Size:  500  Sequences\nRunning Fold 1 / 10\n"
     ]
    },
    {
     "name": "stdout",
     "output_type": "stream",
     "text": [
      "Running Fold 2 / 10\n"
     ]
    },
    {
     "name": "stdout",
     "output_type": "stream",
     "text": [
      "Running Fold 3 / 10\n"
     ]
    },
    {
     "name": "stdout",
     "output_type": "stream",
     "text": [
      "Running Fold 4 / 10\n"
     ]
    },
    {
     "name": "stdout",
     "output_type": "stream",
     "text": [
      "Running Fold 5 / 10\n"
     ]
    },
    {
     "name": "stdout",
     "output_type": "stream",
     "text": [
      "Running Fold 6 / 10\n"
     ]
    },
    {
     "name": "stdout",
     "output_type": "stream",
     "text": [
      "Running Fold 7 / 10\n"
     ]
    },
    {
     "name": "stdout",
     "output_type": "stream",
     "text": [
      "Running Fold 8 / 10\n"
     ]
    },
    {
     "name": "stdout",
     "output_type": "stream",
     "text": [
      "Running Fold 9 / 10\n"
     ]
    },
    {
     "name": "stdout",
     "output_type": "stream",
     "text": [
      "Running Fold 10 / 10\n"
     ]
    },
    {
     "name": "stdout",
     "output_type": "stream",
     "text": [
      "Training Size:  1000  Sequences\nRunning Fold 1 / 10\n"
     ]
    },
    {
     "name": "stdout",
     "output_type": "stream",
     "text": [
      "Running Fold 2 / 10\n"
     ]
    },
    {
     "name": "stdout",
     "output_type": "stream",
     "text": [
      "Running Fold 3 / 10\n"
     ]
    },
    {
     "name": "stdout",
     "output_type": "stream",
     "text": [
      "Running Fold 4 / 10\n"
     ]
    },
    {
     "name": "stdout",
     "output_type": "stream",
     "text": [
      "Running Fold 5 / 10\n"
     ]
    },
    {
     "name": "stdout",
     "output_type": "stream",
     "text": [
      "Running Fold 6 / 10\n"
     ]
    },
    {
     "name": "stdout",
     "output_type": "stream",
     "text": [
      "Running Fold 7 / 10\n"
     ]
    },
    {
     "name": "stdout",
     "output_type": "stream",
     "text": [
      "Running Fold 8 / 10\n"
     ]
    },
    {
     "name": "stdout",
     "output_type": "stream",
     "text": [
      "Running Fold 9 / 10\n"
     ]
    },
    {
     "name": "stdout",
     "output_type": "stream",
     "text": [
      "Running Fold 10 / 10\n"
     ]
    },
    {
     "name": "stdout",
     "output_type": "stream",
     "text": [
      "Training Size:  2000  Sequences\nRunning Fold 1 / 10\n"
     ]
    },
    {
     "name": "stdout",
     "output_type": "stream",
     "text": [
      "Running Fold 2 / 10\n"
     ]
    },
    {
     "name": "stdout",
     "output_type": "stream",
     "text": [
      "Running Fold 3 / 10\n"
     ]
    },
    {
     "name": "stdout",
     "output_type": "stream",
     "text": [
      "Running Fold 4 / 10\n"
     ]
    },
    {
     "name": "stdout",
     "output_type": "stream",
     "text": [
      "Running Fold 5 / 10\n"
     ]
    },
    {
     "name": "stdout",
     "output_type": "stream",
     "text": [
      "Running Fold 6 / 10\n"
     ]
    },
    {
     "name": "stdout",
     "output_type": "stream",
     "text": [
      "Running Fold 7 / 10\n"
     ]
    },
    {
     "name": "stdout",
     "output_type": "stream",
     "text": [
      "Running Fold 8 / 10\n"
     ]
    },
    {
     "name": "stdout",
     "output_type": "stream",
     "text": [
      "Running Fold 9 / 10\n"
     ]
    },
    {
     "name": "stdout",
     "output_type": "stream",
     "text": [
      "Running Fold 10 / 10\n"
     ]
    },
    {
     "name": "stdout",
     "output_type": "stream",
     "text": [
      "Training Size:  4000  Sequences\nRunning Fold 1 / 10\n"
     ]
    },
    {
     "name": "stdout",
     "output_type": "stream",
     "text": [
      "Running Fold 2 / 10\n"
     ]
    },
    {
     "name": "stdout",
     "output_type": "stream",
     "text": [
      "Running Fold 3 / 10\n"
     ]
    },
    {
     "name": "stdout",
     "output_type": "stream",
     "text": [
      "Running Fold 4 / 10\n"
     ]
    },
    {
     "name": "stdout",
     "output_type": "stream",
     "text": [
      "Running Fold 5 / 10\n"
     ]
    },
    {
     "name": "stdout",
     "output_type": "stream",
     "text": [
      "Running Fold 6 / 10\n"
     ]
    },
    {
     "name": "stdout",
     "output_type": "stream",
     "text": [
      "Running Fold 7 / 10\n"
     ]
    },
    {
     "name": "stdout",
     "output_type": "stream",
     "text": [
      "Running Fold 8 / 10\n"
     ]
    },
    {
     "name": "stdout",
     "output_type": "stream",
     "text": [
      "Running Fold 9 / 10\n"
     ]
    },
    {
     "name": "stdout",
     "output_type": "stream",
     "text": [
      "Running Fold 10 / 10\n"
     ]
    },
    {
     "name": "stdout",
     "output_type": "stream",
     "text": [
      "Training Size:  8000  Sequences\nRunning Fold 1 / 10\n"
     ]
    },
    {
     "name": "stdout",
     "output_type": "stream",
     "text": [
      "Running Fold 2 / 10\n"
     ]
    },
    {
     "name": "stdout",
     "output_type": "stream",
     "text": [
      "Running Fold 3 / 10\n"
     ]
    },
    {
     "name": "stdout",
     "output_type": "stream",
     "text": [
      "Running Fold 4 / 10\n"
     ]
    },
    {
     "name": "stdout",
     "output_type": "stream",
     "text": [
      "Running Fold 5 / 10\n"
     ]
    },
    {
     "name": "stdout",
     "output_type": "stream",
     "text": [
      "Running Fold 6 / 10\n"
     ]
    },
    {
     "name": "stdout",
     "output_type": "stream",
     "text": [
      "Running Fold 7 / 10\n"
     ]
    },
    {
     "name": "stdout",
     "output_type": "stream",
     "text": [
      "Running Fold 8 / 10\n"
     ]
    },
    {
     "name": "stdout",
     "output_type": "stream",
     "text": [
      "Running Fold 9 / 10\n"
     ]
    },
    {
     "name": "stdout",
     "output_type": "stream",
     "text": [
      "Running Fold 10 / 10\n"
     ]
    },
    {
     "name": "stdout",
     "output_type": "stream",
     "text": [
      "Training Size:  13500  Sequences\nRunning Fold 1 / 10\n"
     ]
    },
    {
     "name": "stdout",
     "output_type": "stream",
     "text": [
      "Running Fold 2 / 10\n"
     ]
    },
    {
     "name": "stdout",
     "output_type": "stream",
     "text": [
      "Running Fold 3 / 10\n"
     ]
    },
    {
     "name": "stdout",
     "output_type": "stream",
     "text": [
      "Running Fold 4 / 10\n"
     ]
    },
    {
     "name": "stdout",
     "output_type": "stream",
     "text": [
      "Running Fold 5 / 10\n"
     ]
    },
    {
     "name": "stdout",
     "output_type": "stream",
     "text": [
      "Running Fold 6 / 10\n"
     ]
    },
    {
     "name": "stdout",
     "output_type": "stream",
     "text": [
      "Running Fold 7 / 10\n"
     ]
    },
    {
     "name": "stdout",
     "output_type": "stream",
     "text": [
      "Running Fold 8 / 10\n"
     ]
    },
    {
     "name": "stdout",
     "output_type": "stream",
     "text": [
      "Running Fold 9 / 10\n"
     ]
    },
    {
     "name": "stdout",
     "output_type": "stream",
     "text": [
      "Running Fold 10 / 10\n"
     ]
    },
    {
     "name": "stdout",
     "output_type": "stream",
     "text": [
      "Training Size:  15000  Sequences\nRunning Fold 1 / 10\n"
     ]
    },
    {
     "name": "stdout",
     "output_type": "stream",
     "text": [
      "Running Fold 2 / 10\n"
     ]
    },
    {
     "name": "stdout",
     "output_type": "stream",
     "text": [
      "Running Fold 3 / 10\n"
     ]
    },
    {
     "name": "stdout",
     "output_type": "stream",
     "text": [
      "Running Fold 4 / 10\n"
     ]
    },
    {
     "name": "stdout",
     "output_type": "stream",
     "text": [
      "Running Fold 5 / 10\n"
     ]
    },
    {
     "name": "stdout",
     "output_type": "stream",
     "text": [
      "Running Fold 6 / 10\n"
     ]
    },
    {
     "name": "stdout",
     "output_type": "stream",
     "text": [
      "Running Fold 7 / 10\n"
     ]
    },
    {
     "name": "stdout",
     "output_type": "stream",
     "text": [
      "Running Fold 8 / 10\n"
     ]
    },
    {
     "name": "stdout",
     "output_type": "stream",
     "text": [
      "Running Fold 9 / 10\n"
     ]
    },
    {
     "name": "stdout",
     "output_type": "stream",
     "text": [
      "Running Fold 10 / 10\n"
     ]
    }
   ],
   "source": [
    "#X = SEQ\n",
    "#Y = IF\n",
    "\n",
    "# read feature extraction lines\n",
    "FILE = open(\"Figure1b/training_energy.txt\", \"r\")\n",
    "lines = FILE.readlines()\n",
    "FILE.close()\n",
    "\n",
    "random.shuffle(lines)\n",
    "#convert to numpy array\n",
    "lines = np.array(lines)\n",
    "\n",
    "my_IDX = [500, 1000, 2000, 4000, 8000, 13500, 15000]\n",
    "#my_IDX = [500, 1000]\n",
    "n_folds = 10\n",
    "\n",
    "lr_matrix = []\n",
    "rr_matrix = []\n",
    "rt_matrix = []\n",
    "Seq_deepCpf1_matrix = []\n",
    "\n",
    "for idx in my_IDX:\n",
    "    print(\"Training Size: \", idx, \" Sequences\")\n",
    "    X = SEQ[:idx]\n",
    "    Y = IF[:idx]\n",
    "    \n",
    "    # 10-fold cross validation\n",
    "    # define 10-fold cross validation test harness\n",
    "    kFold = KFold(n_splits=n_folds, shuffle=True)\n",
    "    \n",
    "    lr_cvScores = []\n",
    "    rr_cvScores = []\n",
    "    rt_cvScores = [] \n",
    "    seq_cvScores = []\n",
    "    \n",
    "    for i, (train, test) in enumerate(kFold.split(X, Y)):\n",
    "        print(\"Running Fold\", i+1, \"/\", n_folds)\n",
    "        #Clearing the model\n",
    "        #model = None\n",
    "        \n",
    "        #do regression\n",
    "        TRAIN_FEAT_X, TRAIN_FEAT_Y = Feature_Extraction(lines[train])\n",
    "        VAL_FEAT_X, VAL_FEAT_Y = Feature_Extraction(lines[test])\n",
    "        \n",
    "        #Lasso Regression\n",
    "        model = linear_model.Lasso()\n",
    "        model.fit(TRAIN_FEAT_X, TRAIN_FEAT_Y)\n",
    "        val_result = spearmanr(VAL_FEAT_Y, model.predict(VAL_FEAT_X))[0]\n",
    "        lr_cvScores.append(val_result)\n",
    "        \n",
    "        #Ridge Regression\n",
    "        model = linear_model.Ridge()\n",
    "        model.fit(TRAIN_FEAT_X, TRAIN_FEAT_Y)\n",
    "        val_result = spearmanr(VAL_FEAT_Y, model.predict(VAL_FEAT_X))[0]\n",
    "        rr_cvScores.append(val_result)\n",
    "        \n",
    "        #Regression Tree\n",
    "        model = GradientBoostingRegressor()\n",
    "        # Training\n",
    "        model.fit(TRAIN_FEAT_X, TRAIN_FEAT_Y) \n",
    "        # Validation\n",
    "        val_result = spearmanr(VAL_FEAT_Y, model.predict(VAL_FEAT_X))[0]\n",
    "        rt_cvScores.append(val_result)\n",
    "        \n",
    "        \n",
    "        #do NN\n",
    "        # create model\n",
    "        model = create_model()\n",
    "        # evaluate the model\n",
    "        val_result = train_and_evaluate_model(model, X[train], Y[train], X[test], Y[test])\n",
    "        seq_cvScores.append(val_result)\n",
    "        \n",
    "    #print(\"%.2f%% (+/- %.2f%%)\" % (np.mean(cvscores), np.std(cvscores)))\n",
    "    lr_matrix.append(lr_cvScores)\n",
    "    rr_matrix.append(rr_cvScores)\n",
    "    rt_matrix.append(rt_cvScores)\n",
    "    Seq_deepCpf1_matrix.append(seq_cvScores)\n"
   ]
  },
  {
   "cell_type": "code",
   "execution_count": 65,
   "metadata": {},
   "outputs": [
    {
     "data": {
      "image/png": "[encoded data removed]",
      "text/plain": [
       "<Figure size 1080x720 with 1 Axes>"
      ]
     },
     "metadata": {},
     "output_type": "display_data"
    }
   ],
   "source": [
    "plt.rcParams[\"figure.figsize\"] = (15, 10)\n",
    "\n",
    "plt.errorbar(np.multiply(my_IDX, 0.9), np.mean(lr_matrix, axis=1), yerr=np.std(lr_matrix, axis=1), marker='^', label=\"Lasso Regression\")\n",
    "plt.errorbar(np.multiply(my_IDX, 0.9), np.mean(rr_matrix, axis=1), yerr=np.std(rr_matrix, axis=1), marker='^', label=\"Ridge Regression\")\n",
    "plt.errorbar(np.multiply(my_IDX, 0.9), np.mean(rt_matrix, axis=1), yerr=np.std(rt_matrix, axis=1), marker='^', label=\"Regression Tree\")\n",
    "plt.errorbar(np.multiply(my_IDX, 0.9), np.mean(Seq_deepCpf1_matrix, axis=1), yerr=np.std(Seq_deepCpf1_matrix, axis=1),\n",
    "             marker='^', label=\"Seq DeepCpf1\")\n",
    "\n",
    "plt.title(\"No Model Selection\")\n",
    "plt.ylabel(\"Spearman Correlation\")\n",
    "plt.xlabel(\"Training Set [#Seqs]\")\n",
    "plt.legend()\n",
    "\n",
    "plt.show()\n"
   ]
  },
  {
   "cell_type": "code",
   "execution_count": 14,
   "metadata": {},
   "outputs": [
    {
     "name": "stdout",
     "output_type": "stream",
     "text": [
      "Lasso:  500 0.6600791585232206\nRidge:  500 0.5217860250538322\nNN:  500 0.6408786308174237\n"
     ]
    },
    {
     "name": "stdout",
     "output_type": "stream",
     "text": [
      "Lasso:  1000 0.6798682228013663\nRidge:  1000 0.6311346161893052\nNN:  1000 0.6873141973890987\n"
     ]
    },
    {
     "name": "stdout",
     "output_type": "stream",
     "text": [
      "Lasso:  2000 0.6864395196811081\nRidge:  2000 0.6965034855173821\nNN:  2000 0.7208328725593208\n"
     ]
    },
    {
     "name": "stdout",
     "output_type": "stream",
     "text": [
      "Lasso:  4000 0.6888117851942724\nRidge:  4000 0.7220840890245411\nNN:  4000 0.7421335828159931\n"
     ]
    },
    {
     "name": "stdout",
     "output_type": "stream",
     "text": [
      "Lasso:  8000 0.6874353807796021\nRidge:  8000 0.7364033466734166\nNN:  8000 0.7516566717856631\n"
     ]
    },
    {
     "name": "stdout",
     "output_type": "stream",
     "text": [
      "Lasso:  13500 0.6881961467429559\nRidge:  13500 0.7431705501310802\nNN:  13500 0.7608855123109055\n"
     ]
    }
   ],
   "source": [
    "# -----------------------------------------------------\n",
    "# Nested Cross-validation\n",
    "# -----------------------------------------------------\n",
    "\n",
    "IDX = [500, 1000, 2000, 4000, 8000, 13500]\n",
    "\n",
    "Models = [0.5, 0.75, 1, 3]\n",
    "\n",
    "outerFolds = 10\n",
    "innerFolds = 5\n",
    "\n",
    "seq_all_Results = []\n",
    "lr_all_Results = []\n",
    "rr_all_Results = []\n",
    "for idx in range(len(IDX)):\n",
    "    \n",
    "    cvScores_seq = []\n",
    "    lr_NestedCV_Results = []\n",
    "    rr_NestedCV_Results = []\n",
    "    # Outer 10-fold CV\n",
    "    for f in range(outerFolds):\n",
    "        \n",
    "        lr_Model_Selection_Results = np.zeros(len(Models))\n",
    "        rr_Model_Selection_Results = np.zeros(len(Models))\n",
    "        \n",
    "        # Inner 5-fold CV\n",
    "        for i in range(innerFolds):\n",
    "            # Load inner CV training data\n",
    "            FILE = open(\"DATA/%s_NestedCV_OuterFold%d_InnerFold%d_Train.txt\" % (idx, f, i), \"r\")\n",
    "            data = FILE.readlines()\n",
    "            TRAIN_DATA_X, TRAIN_DATA_Y = Feature_Extraction(data)\n",
    "            FILE.close()\n",
    "\n",
    "            # Load inner CV validation data\n",
    "            FILE = open(\"DATA/%s_NestedCV_OuterFold%d_InnerFold%d_Validation.txt\" % (idx, f, i), \"r\")\n",
    "            data = FILE.readlines()\n",
    "            VAL_DATA_X, VAL_DATA_Y = Feature_Extraction(data)\n",
    "            FILE.close()\n",
    "                \n",
    "            # Model hyperparameter selection\n",
    "            for m in range(len(Models)):   \n",
    "                \n",
    "                lr = linear_model.Lasso(alpha=Models[m])\n",
    "                rr = linear_model.Ridge(alpha=Models[m])\n",
    "                \n",
    "                # Training\n",
    "                lr.fit(TRAIN_DATA_X, TRAIN_DATA_Y)\n",
    "                rr.fit(TRAIN_DATA_X, TRAIN_DATA_Y)\n",
    "\n",
    "                # Validation\n",
    "                lr_val_result = spearmanr(VAL_DATA_Y, lr.predict(VAL_DATA_X))[0]\n",
    "                rr_val_result = spearmanr(VAL_DATA_Y, rr.predict(VAL_DATA_X))[0]\n",
    "                \n",
    "                lr_Model_Selection_Results[m] += lr_val_result\n",
    "                rr_Model_Selection_Results[m] += rr_val_result\n",
    "            \n",
    "        # Select best performing model from inner 5-fold CV     \n",
    "        lr_Best_Model = np.argmax(lr_Model_Selection_Results)\n",
    "        rr_Best_Model = np.argmax(rr_Model_Selection_Results)\n",
    "        \n",
    "        lr = linear_model.Lasso(alpha=Models[int(lr_Best_Model)])\n",
    "        rr = linear_model.Ridge(alpha=Models[int(rr_Best_Model)])\n",
    "\n",
    "        # Load outer CV training data\n",
    "        FILE = open(\"DATA/%s_NestedCV_OuterFold%d_Train.txt\" % (idx, f), \"r\")\n",
    "        data = FILE.readlines()\n",
    "        TRAIN_DATA_X, TRAIN_DATA_Y = Feature_Extraction(data)\n",
    "        X_train, Y_train = PREPROCESS(data, header=False)\n",
    "        FILE.close()\n",
    "\n",
    "        # Load outer CV validation data\n",
    "        FILE = open(\"DATA/NestedCV_OuterFold%d_Validation.txt\" % f, \"r\")\n",
    "        data = FILE.readlines()\n",
    "        VAL_DATA_X, VAL_DATA_Y = Feature_Extraction(data)\n",
    "        X_val, Y_val = PREPROCESS(data, header=False)\n",
    "        FILE.close()\n",
    "        \n",
    "        # do NN\n",
    "        # create model\n",
    "        model = create_model()\n",
    "        # evaluate the model\n",
    "        val_result = train_and_evaluate_model(model, X_train, Y_train, X_val, Y_val)\n",
    "        cvScores_seq.append(val_result)\n",
    "                \n",
    "        # Training\n",
    "        lr.fit(TRAIN_DATA_X, TRAIN_DATA_Y)\n",
    "        rr.fit(TRAIN_DATA_X, TRAIN_DATA_Y) \n",
    "\n",
    "        # Validation\n",
    "        lr_val_result = spearmanr(VAL_DATA_Y, lr.predict(VAL_DATA_X))[0]\n",
    "        rr_val_result = spearmanr(VAL_DATA_Y, rr.predict(VAL_DATA_X))[0]\n",
    "        \n",
    "        lr_NestedCV_Results.append(lr_val_result)\n",
    "        rr_NestedCV_Results.append(rr_val_result)\n",
    "        \n",
    "    lr_all_Results.append(lr_NestedCV_Results)\n",
    "    print(\"Lasso: \", IDX[idx], np.average(lr_NestedCV_Results))\n",
    "    rr_all_Results.append(rr_NestedCV_Results)\n",
    "    print(\"Ridge: \", IDX[idx], np.average(rr_NestedCV_Results))\n",
    "    seq_all_Results.append(cvScores_seq)\n",
    "    print(\"NN: \", IDX[idx], np.average(cvScores_seq))"
   ]
  },
  {
   "cell_type": "code",
   "execution_count": 15,
   "metadata": {},
   "outputs": [
    {
     "data": {
      "image/png": "[encoded data removed]",
      "text/plain": [
       "<Figure size 1080x720 with 1 Axes>"
      ]
     },
     "metadata": {},
     "output_type": "display_data"
    }
   ],
   "source": [
    "plt.rcParams[\"figure.figsize\"] = (15, 10)\n",
    "\n",
    "plt.errorbar(IDX, np.mean(lr_all_Results, axis=1), yerr=np.std(lr_all_Results, axis=1), marker='^', label=\"Lasso Regression\")\n",
    "plt.errorbar(IDX, np.mean(rr_all_Results, axis=1), yerr=np.std(rr_all_Results, axis=1), marker='^', label=\"Ridge Regression\")\n",
    "plt.errorbar(IDX, np.mean(seq_all_Results, axis=1), yerr=np.std(seq_all_Results, axis=1), marker='^', label=\"Seq DeepCpf1\")\n",
    "\n",
    "plt.title(\"Model Selection\")\n",
    "plt.ylabel(\"Spearman Correlation\")\n",
    "plt.xlabel(\"Training Set [#Seqs]\")\n",
    "plt.legend()\n",
    "\n",
    "plt.show()\n"
   ]
  },
  {
   "cell_type": "code",
   "execution_count": 7,
   "metadata": {},
   "outputs": [
    {
     "name": "stdout",
     "output_type": "stream",
     "text": [
      "0\n"
     ]
    },
    {
     "name": "stdout",
     "output_type": "stream",
     "text": [
      "1\n"
     ]
    },
    {
     "name": "stdout",
     "output_type": "stream",
     "text": [
      "2\n"
     ]
    },
    {
     "name": "stdout",
     "output_type": "stream",
     "text": [
      "3\n"
     ]
    },
    {
     "name": "stdout",
     "output_type": "stream",
     "text": [
      "4\n"
     ]
    },
    {
     "name": "stdout",
     "output_type": "stream",
     "text": [
      "5\n"
     ]
    },
    {
     "name": "stdout",
     "output_type": "stream",
     "text": [
      "6\n"
     ]
    },
    {
     "name": "stdout",
     "output_type": "stream",
     "text": [
      "7\n"
     ]
    },
    {
     "name": "stdout",
     "output_type": "stream",
     "text": [
      "8\n"
     ]
    },
    {
     "name": "stdout",
     "output_type": "stream",
     "text": [
      "9\n"
     ]
    },
    {
     "name": "stdout",
     "output_type": "stream",
     "text": [
      "10\n"
     ]
    },
    {
     "name": "stdout",
     "output_type": "stream",
     "text": [
      "11\n"
     ]
    },
    {
     "name": "stdout",
     "output_type": "stream",
     "text": [
      "12\n"
     ]
    },
    {
     "name": "stdout",
     "output_type": "stream",
     "text": [
      "13\n"
     ]
    },
    {
     "name": "stdout",
     "output_type": "stream",
     "text": [
      "14\n"
     ]
    },
    {
     "name": "stdout",
     "output_type": "stream",
     "text": [
      "15\n"
     ]
    },
    {
     "name": "stdout",
     "output_type": "stream",
     "text": [
      "16\n"
     ]
    },
    {
     "name": "stdout",
     "output_type": "stream",
     "text": [
      "17\n"
     ]
    },
    {
     "name": "stdout",
     "output_type": "stream",
     "text": [
      "18\n"
     ]
    },
    {
     "name": "stdout",
     "output_type": "stream",
     "text": [
      "19\n"
     ]
    },
    {
     "name": "stdout",
     "output_type": "stream",
     "text": [
      "20\n"
     ]
    },
    {
     "name": "stdout",
     "output_type": "stream",
     "text": [
      "21\n"
     ]
    },
    {
     "name": "stdout",
     "output_type": "stream",
     "text": [
      "22\n"
     ]
    },
    {
     "name": "stdout",
     "output_type": "stream",
     "text": [
      "23\n"
     ]
    },
    {
     "name": "stdout",
     "output_type": "stream",
     "text": [
      "24\n"
     ]
    }
   ],
   "source": [
    "import random\n",
    "\n",
    "check_data = list(zip(SEQ, IF))\n",
    "\n",
    "check_result = []\n",
    "for n in range(25):\n",
    "        print(n)\n",
    "        random.shuffle(check_data)\n",
    "        sanity_X, sanity_Y = zip(*check_data)\n",
    "        sanity_Y = np.array(sanity_Y)\n",
    "        sanity_X = np.array(sanity_X)\n",
    "        \n",
    "        # do NN\n",
    "        # create model\n",
    "        sanity_check = create_model()\n",
    "        # evaluate the model\n",
    "        val_result = train_and_evaluate_model(sanity_check, sanity_X[:13500], sanity_Y[:13500],\n",
    "                                              sanity_X[13500:], sanity_Y[13500:])\n",
    "        check_result.append(val_result)"
   ]
  },
  {
   "cell_type": "code",
   "execution_count": 8,
   "metadata": {},
   "outputs": [
    {
     "data": {
      "image/png": "[encoded data removed]",
      "text/plain": [
       "<Figure size 1080x720 with 1 Axes>"
      ]
     },
     "metadata": {},
     "output_type": "display_data"
    }
   ],
   "source": [
    "plt.rcParams[\"figure.figsize\"] = (15, 10)\n",
    "\n",
    "plt.boxplot(check_result)\n",
    "\n",
    "plt.title(\"Sanity Check\")\n",
    "\n",
    "plt.show()"
   ]
  },
  {
   "cell_type": "code",
   "execution_count": 11,
   "metadata": {},
   "outputs": [],
   "source": [
    "#clean shutdown for tf.\n",
    "\n",
    "if K.backend() == 'tensorflow':\n",
    "    K.clear_session()"
   ]
  },
  {
   "cell_type": "code",
   "execution_count": null,
   "metadata": {},
   "outputs": [],
   "source": [
    "energy = []\n",
    "with open('Figure1b/energy.txt', 'r') as file:\n",
    "    lines = file.readlines()\n",
    "    for row in lines:\n",
    "        energy.append(float(row))\n",
    "\n",
    "# read feature extraction lines\n",
    "FILE = open(\"Figure1b/training.txt\", \"r\")\n",
    "lines = FILE.readlines()[1:]\n",
    "FILE.close()\n",
    "for i in range(len(lines)):\n",
    "    lines[i] = lines[i].replace(\"\\n\", \"\\t\"+str(energy[i])+\"\\n\")\n",
    "#convert to numpy array\n",
    "lines = np.array(lines)\n",
    "\n",
    "\n",
    "FILE = open(\"Figure1b/training_energy.txt\", \"w\")\n",
    "FILE.write(\"\".join(lines))\n",
    "FILE.close()"
   ]
  }
 ],
 "metadata": {},
 "nbformat": 4,
 "nbformat_minor": 0
}
