{
 "cells": [
  {
   "cell_type": "code",
   "execution_count": null,
   "metadata": {
    "scrolled": false
   },
   "outputs": [],
   "source": [
    "from numpy import *\n",
    "from Feature_Extraction import *\n",
    "from sklearn.ensemble import GradientBoostingRegressor\n",
    "from scipy.stats import spearmanr\n",
    "\n",
    "IDX = [\"0.5k\", \"1k\", \"2k\", \"4k\", \"8k\", \"13.5k\"]\n",
    "\n",
    "FILE = open(\"Hyperparameter_Candidates_BoostedRT.txt\", \"r\")\n",
    "Models = FILE.readlines()\n",
    "FILE.close()"
   ]
  },
  {
   "cell_type": "code",
   "execution_count": null,
   "metadata": {},
   "outputs": [],
   "source": [
    "# -----------------------------------------------------\n",
    "# Nested Cross-validation\n",
    "# -----------------------------------------------------\n",
    "for idx in range(len(IDX)):\n",
    "\n",
    "    NestedCV_Results = []\n",
    "    # Outer 10-fold CV\n",
    "    for f in range(10):\n",
    "        \n",
    "        Model_Selection_Results = [0.0] * len(Models)\n",
    "        # Inner 5-fold CV\n",
    "        for i in range(5):\n",
    "            # Load inner CV training data\n",
    "            FILE = open(\"DATA/%s_NestedCV_OuterFold%d_InnerFold%d_Train.txt\" % (IDX[idx], f, i), \"r\")\n",
    "            data = FILE.readlines()\n",
    "            TRAIN_DATA_X, TRAIN_DATA_Y = Feature_Extraction(data)\n",
    "            FILE.close()\n",
    "\n",
    "            # Load inner CV validation data\n",
    "            FILE = open(\"DATA/%s_NestedCV_OuterFold%d_InnerFold%d_Validation.txt\" % (IDX[idx], f, i), \"r\")\n",
    "            data = FILE.readlines()\n",
    "            VAL_DATA_X, VAL_DATA_Y = Feature_Extraction(data)\n",
    "            FILE.close()\n",
    "                \n",
    "            # Model hyperparameter selection\n",
    "            for m in range(len(Models)):   \n",
    "                Tokens = Models[m].strip().split()\n",
    "                model = GradientBoostingRegressor(n_estimators = int(Tokens[0]), max_depth = int(Tokens[1]), min_samples_split = int(Tokens[2]), min_samples_leaf = int(Tokens[3]), max_features = Tokens[4])\n",
    "                \n",
    "                # Training\n",
    "                model.fit(TRAIN_DATA_X, TRAIN_DATA_Y) \n",
    "\n",
    "                # Validation\n",
    "                val_result = spearmanr(VAL_DATA_Y, model.predict(VAL_DATA_X))[0]\n",
    "                Model_Selection_Results[m] += val_result\n",
    "            \n",
    "            \n",
    "        # Select best performing model from inner 5-fold CV     \n",
    "        Best_Model = argmax(Model_Selection_Results)\n",
    "        Tokens = Models[BEST_Model].strip().split()\n",
    "        model = GradientBoostingRegressor(n_estimators = int(Tokens[0]), max_depth = int(Tokens[1]), min_samples_split = int(Tokens[2]), min_samples_leaf = int(Tokens[3]), max_features = Tokens[4])\n",
    "\n",
    "        # Load outer CV training data\n",
    "        FILE = open(\"DATA/%s_NestedCV_OuterFold%d_Train.txt\" % (IDX[idx], f), \"r\")\n",
    "        data = FILE.readlines()\n",
    "        TRAIN_DATA_X, TRAIN_DATA_Y = Feature_Extraction(data)\n",
    "        FILE.close()\n",
    "\n",
    "        # Load outer CV validation data\n",
    "        FILE = open(\"DATA/NestedCV_OuterFold%d_Validation.txt\" % (f), \"r\")\n",
    "        data = FILE.readlines()\n",
    "        VAL_DATA_X, VAL_DATA_Y = Feature_Extraction(data)\n",
    "        FILE.close()\n",
    "                \n",
    "        # Training\n",
    "        model.fit(TRAIN_DATA_X, TRAIN_DATA_Y) \n",
    "\n",
    "        # Validation\n",
    "        val_result = spearmanr(VAL_DATA_Y, model.predict(VAL_DATA_X))[0]\n",
    "        NestedCV_Results.append(val_result)\n",
    "        \n",
    "    print(IDX[idx], average(NestedCV_Results))"
   ]
  }
 ],
 "metadata": {
  "kernelspec": {
   "display_name": "Python 2",
   "language": "python",
   "name": "python2"
  },
  "language_info": {
   "codemirror_mode": {
    "name": "ipython",
    "version": 2
   },
   "file_extension": ".py",
   "mimetype": "text/x-python",
   "name": "python",
   "nbconvert_exporter": "python",
   "pygments_lexer": "ipython2",
   "version": "2.7.12"
  }
 },
 "nbformat": 4,
 "nbformat_minor": 1
}
