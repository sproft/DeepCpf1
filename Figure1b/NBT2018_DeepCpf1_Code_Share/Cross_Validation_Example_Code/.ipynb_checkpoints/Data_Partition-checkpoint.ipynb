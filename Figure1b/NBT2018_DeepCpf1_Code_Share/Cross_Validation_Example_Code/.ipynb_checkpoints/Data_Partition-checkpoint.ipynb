{
 "cells": [
  {
   "cell_type": "code",
   "execution_count": null,
   "metadata": {},
   "outputs": [],
   "source": [
    "from random import shuffle\n",
    "\n",
    "IDX = [\"0.5k\", \"1k\", \"2k\", \"4k\", \"8k\", \"13.5k\"]\n",
    "NUM = [500, 1000, 2000, 4000, 8000, 13500]\n",
    "\n",
    "FILE = open(\"DATA/Cpf1_NestedCV_Dataset.txt\" , \"r\")\n",
    "data = FILE.readlines()\n",
    "FILE.close()\n",
    "\n",
    "shuffle(data)\n",
    "DATA_n = len(data)\n",
    "print \"Total data: %d\" % DATA_n"
   ]
  },
  {
   "cell_type": "code",
   "execution_count": null,
   "metadata": {},
   "outputs": [],
   "source": [
    "# -----------------------------------------------------\n",
    "# Nested Cross-validation Data Partition\n",
    "# -----------------------------------------------------\n",
    "\n",
    "# Outer 10-fold\n",
    "ofold_n = len(data) // 10\n",
    "for f in range(10):\n",
    "    oval_data = data[ofold_n*f:ofold_n*(f+1)]\n",
    "    otrain_data_all = data[:ofold_n*f] + data[ofold_n*(f+1):]\n",
    "    \n",
    "    # Outer CV validation data\n",
    "    OUT = open(\"DATA/NestedCV_OuterFold%d_Validation.txt\" % (f) , \"w\")\n",
    "    for s in range(len(oval_data)):\n",
    "        OUT.write(oval_data[s])\n",
    "    OUT.close()\n",
    "    \n",
    "    # Outer CV training data\n",
    "    for idx in range(len(IDX)):\n",
    "        shuffle(otrain_data_all)\n",
    "        \n",
    "        otrain_data = otrain_data_all[:NUM[idx]]\n",
    "        OUT = open(\"DATA/%s_NestedCV_OuterFold%d_Train.txt\" % (IDX[idx], f) , \"w\")\n",
    "        for s in range(len(otrain_data)):\n",
    "            OUT.write(otrain_data[s])\n",
    "        OUT.close()\n",
    "        \n",
    "        # Inner 5-fold\n",
    "        ifold_n = len(otrain_data) // 5\n",
    "        for i in range(5):\n",
    "            ival_data = otrain_data[ifold_n*i:ifold_n*(i+1)]\n",
    "            itrain_data = otrain_data[:ifold_n*i] + otrain_data[ifold_n*(i+1):]\n",
    "\n",
    "            # Inner CV validation data\n",
    "            OUT = open(\"DATA/%s_NestedCV_OuterFold%d_InnerFold%d_Validation.txt\" % (IDX[idx], f, i) , \"w\")\n",
    "            for s in range(len(ival_data)):\n",
    "                OUT.write(ival_data[s])\n",
    "            OUT.close()\n",
    "\n",
    "            # Inner CV training data\n",
    "            OUT = open(\"DATA/%s_NestedCV_OuterFold%d_InnerFold%d_Train.txt\" % (IDX[idx], f, i) , \"w\")\n",
    "            for s in range(len(itrain_data)):\n",
    "                OUT.write(itrain_data[s])\n",
    "            OUT.close()"
   ]
  }
 ],
 "metadata": {
  "kernelspec": {
   "display_name": "Python 2",
   "language": "python",
   "name": "python2"
  },
  "language_info": {
   "codemirror_mode": {
    "name": "ipython",
    "version": 3
   },
   "file_extension": ".py",
   "mimetype": "text/x-python",
   "name": "python",
   "nbconvert_exporter": "python",
   "pygments_lexer": "ipython3",
   "version": "3.5.2"
  }
 },
 "nbformat": 4,
 "nbformat_minor": 1
}
