{
 "cells": [
  {
   "cell_type": "code",
   "execution_count": 64,
   "metadata": {
    "collapsed": true
   },
   "outputs": [],
   "source": [
    "%matplotlib inline\n",
    "\n",
    "from numpy import *\n",
    "import innvestigate\n",
    "import sys\n",
    "\n",
    "from keras.models import Model\n",
    "from keras.layers import Input\n",
    "from keras.layers.merge import Multiply\n",
    "from keras.layers.core import Dense, Dropout, Activation, Flatten\n",
    "from keras.layers.convolutional import Convolution1D, AveragePooling1D"
   ]
  },
  {
   "cell_type": "code",
   "execution_count": 65,
   "metadata": {},
   "outputs": [],
   "source": [
    "def PREPROCESS(lines):\n",
    "    data_n = len(lines) - 1\n",
    "    SEQ = zeros((data_n, 34, 4), dtype=int)\n",
    "    CA = zeros((data_n, 1), dtype=int)\n",
    "    \n",
    "    for l in range(1, data_n+1):\n",
    "        data = lines[l].split()\n",
    "        seq = data[1]\n",
    "        for i in range(34):\n",
    "            if seq[i] in \"Aa\":\n",
    "                SEQ[l-1, i, 0] = 1\n",
    "            elif seq[i] in \"Cc\":\n",
    "                SEQ[l-1, i, 1] = 1\n",
    "            elif seq[i] in \"Gg\":\n",
    "                SEQ[l-1, i, 2] = 1\n",
    "            elif seq[i] in \"Tt\":\n",
    "                SEQ[l-1, i, 3] = 1\n",
    "        CA[l-1,0] = int(data[2])\n",
    "\n",
    "    return SEQ, CA"
   ]
  },
  {
   "cell_type": "code",
   "execution_count": 67,
   "metadata": {},
   "outputs": [
    {
     "name": "stdout",
     "output_type": "stream",
     "text": [
      "Usage: python DeepCpf1.py input.txt output.txt\ninput.txt must include 3 columns with single header row\n\t1st column: sequence index\n\t2nd column: 34bp target sequence\n\t3rd column: binary chromain information of the target sequence\n\nDeepCpf1 currently requires python=2.7.12, theano=0.7.0, keras=0.3.3\nDeepCpf1 available on GitHub requires pre-obtained binary chromatin information (DNase-seq narraow peak data from ENCODE)\nDeepCpf1 web tool, available at http://data.snu.ac.kr/DeepCpf1, provides entire pipeline including binary chromatin accessibility for 125 cell lines\n\nBuilding models\n"
     ]
    },
    {
     "name": "stdout",
     "output_type": "stream",
     "text": [
      "Loading weights for the models\n"
     ]
    },
    {
     "name": "stdout",
     "output_type": "stream",
     "text": [
      "Loading test data\nPredicting on test data\n"
     ]
    },
    {
     "name": "stdout",
     "output_type": "stream",
     "text": [
      "Saving to C:\\Users\\Sebastian\\AppData\\Roaming\\jupyter\\runtime\\kernel-030c3091-9108-4148-a9da-3bcc640e14c5.json\n"
     ]
    }
   ],
   "source": [
    "print(\"Usage: python DeepCpf1.py input.txt output.txt\")\n",
    "print(\"input.txt must include 3 columns with single header row\")\n",
    "print(\"\\t1st column: sequence index\")\n",
    "print(\"\\t2nd column: 34bp target sequence\")\n",
    "print(\"\\t3rd column: binary chromain information of the target sequence\\n\")\n",
    "\n",
    "print(\"DeepCpf1 currently requires python=2.7.12, theano=0.7.0, keras=0.3.3\")\n",
    "print(\"DeepCpf1 available on GitHub requires pre-obtained binary chromatin information (DNase-seq narraow peak data from ENCODE)\")\n",
    "print(\"DeepCpf1 web tool, available at http://data.snu.ac.kr/DeepCpf1, provides entire pipeline including binary chromatin accessibility for 125 cell lines\\n\")\n",
    "\n",
    "if len(sys.argv) < 3:\n",
    "    sys.exit()\n",
    "\n",
    "print(\"Building models\")\n",
    "Seq_deepCpf1_Input_SEQ = Input(shape=(34,4))\n",
    "Seq_deepCpf1_C1 = Convolution1D(80, 5, activation='relu')(Seq_deepCpf1_Input_SEQ)\n",
    "Seq_deepCpf1_P1 = AveragePooling1D(2)(Seq_deepCpf1_C1)\n",
    "Seq_deepCpf1_F = Flatten()(Seq_deepCpf1_P1)\n",
    "Seq_deepCpf1_DO1= Dropout(0.3)(Seq_deepCpf1_F)\n",
    "Seq_deepCpf1_D1 = Dense(80, activation='relu')(Seq_deepCpf1_DO1)\n",
    "Seq_deepCpf1_DO2= Dropout(0.3)(Seq_deepCpf1_D1)\n",
    "Seq_deepCpf1_D2 = Dense(40, activation='relu')(Seq_deepCpf1_DO2)\n",
    "Seq_deepCpf1_DO3= Dropout(0.3)(Seq_deepCpf1_D2)\n",
    "Seq_deepCpf1_D3 = Dense(40, activation='relu')(Seq_deepCpf1_DO3)\n",
    "Seq_deepCpf1_DO4= Dropout(0.3)(Seq_deepCpf1_D3)\n",
    "Seq_deepCpf1_Output = Dense(1, activation='linear')(Seq_deepCpf1_DO4)\n",
    "Seq_deepCpf1 = Model(inputs=[Seq_deepCpf1_Input_SEQ], outputs=[Seq_deepCpf1_Output])\n",
    "\n",
    "DeepCpf1_Input_SEQ = Input(shape=(34,4))\n",
    "DeepCpf1_C1 = Convolution1D(80, 5, activation='relu')(DeepCpf1_Input_SEQ)\n",
    "DeepCpf1_P1 = AveragePooling1D(2)(DeepCpf1_C1)\n",
    "DeepCpf1_F = Flatten()(DeepCpf1_P1)\n",
    "DeepCpf1_DO1= Dropout(0.3)(DeepCpf1_F)\n",
    "DeepCpf1_D1 = Dense(80, activation='relu')(DeepCpf1_DO1)\n",
    "DeepCpf1_DO2= Dropout(0.3)(DeepCpf1_D1)\n",
    "DeepCpf1_D2 = Dense(40, activation='relu')(DeepCpf1_DO2)\n",
    "DeepCpf1_DO3= Dropout(0.3)(DeepCpf1_D2)\n",
    "DeepCpf1_D3_SEQ = Dense(40, activation='relu')(DeepCpf1_DO3)\n",
    "\n",
    "DeepCpf1_Input_CA = Input(shape=(1,))\n",
    "DeepCpf1_D3_CA = Dense(40, activation='relu')(DeepCpf1_Input_CA)\n",
    "DeepCpf1_M = Multiply()([DeepCpf1_D3_SEQ, DeepCpf1_D3_CA])\n",
    "\n",
    "DeepCpf1_DO4= Dropout(0.3)(DeepCpf1_M)\n",
    "DeepCpf1_Output = Dense(1, activation='linear')(DeepCpf1_DO4)\n",
    "DeepCpf1 = Model(inputs=[DeepCpf1_Input_SEQ, DeepCpf1_Input_CA], outputs=[DeepCpf1_Output])\n",
    "\n",
    "print(\"Loading weights for the models\")\n",
    "Seq_deepCpf1.load_weights('weights/Seq_deepCpf1_weights.h5')\n",
    "DeepCpf1.load_weights('weights/DeepCpf1_weights.h5')\n",
    "\n",
    "print(\"Loading test data\")\n",
    "FILE = open(\"input_example.txt\", \"r\")\n",
    "data = FILE.readlines()\n",
    "SEQ, CA = PREPROCESS(data)\n",
    "FILE.close()\n",
    "\n",
    "print(\"Predicting on test data\")\n",
    "Seq_deepCpf1_SCORE = Seq_deepCpf1.predict([SEQ], batch_size=50, verbose=0)\n",
    "DeepCpf1_SCORE = DeepCpf1.predict([SEQ, CA], batch_size=50, verbose=0) * 3\n",
    "\n",
    "print(\"Saving to \" + sys.argv[2])\n",
    "OUTPUT = open(sys.argv[2], \"w\")\n",
    "for l in range(len(data)):\n",
    "    if l == 0:\n",
    "        OUTPUT.write(data[l].strip())\n",
    "        OUTPUT.write(\"\\tSeq-deepCpf1 Score\\tDeepCpf1 Score\\n\")\n",
    "    else:\n",
    "        OUTPUT.write(data[l].strip())\n",
    "        OUTPUT.write(\"\\t%f\\t%f\\n\" % (Seq_deepCpf1_SCORE[l-1], DeepCpf1_SCORE[l-1]))\n",
    "OUTPUT.close()"
   ]
  },
  {
   "cell_type": "code",
   "execution_count": 68,
   "metadata": {},
   "outputs": [
    {
     "name": "stdout",
     "output_type": "stream",
     "text": [
      "Analyzing NN\n"
     ]
    },
    {
     "data": {
      "image/png": "[encoded data removed]",
      "text/plain": [
       "<Figure size 432x288 with 1 Axes>"
      ]
     },
     "metadata": {},
     "output_type": "display_data"
    },
    {
     "data": {
      "image/png": "[encoded data removed]",
      "text/plain": [
       "<Figure size 432x288 with 1 Axes>"
      ]
     },
     "metadata": {},
     "output_type": "display_data"
    }
   ],
   "source": [
    "#Analyze\n",
    "\n",
    "print(\"Analyzing NN\")\n",
    "analyzer = innvestigate.create_analyzer(\"gradient\", Seq_deepCpf1)\n",
    "analysis = analyzer.analyze(SEQ)\n",
    "\n",
    "grid = [[analysis[i, j] for j in range(analysis.shape[1])]\n",
    "        for i in range(analysis.shape[0])]\n",
    "\n",
    "import numpy as np\n",
    "import matplotlib.pyplot as plt\n",
    "# sphinx_gallery_thumbnail_number = 2\n",
    "\n",
    "positions = range(1,34)\n",
    "bases = [\"A\", \"C\", \"G\", \"T\"]\n",
    "\n",
    "for i in range(0,len(grid)):\n",
    "    harvest = transpose(grid[i])\n",
    "    \n",
    "    fig, ax = plt.subplots()\n",
    "    im = ax.imshow(harvest)\n",
    "    \n",
    "    # We want to show all ticks...\n",
    "    ax.set_xticks(np.arange(len(positions)))\n",
    "    ax.set_yticks(np.arange(len(bases)))\n",
    "    # ... and label them with the respective list entries\n",
    "    ax.set_xticklabels(positions)\n",
    "    ax.set_yticklabels(bases)\n",
    "    \n",
    "    # Rotate the tick labels and set their alignment.\n",
    "    plt.setp(ax.get_xticklabels(), rotation=45, ha=\"right\",\n",
    "             rotation_mode=\"anchor\")\n",
    "    \n",
    "    # Loop over data dimensions and create text annotations.\n",
    "    #for i in range(len(bases)):\n",
    "    #    for j in range(len(positions)):\n",
    "    #        text = ax.text(j, i, harvest[i, j],\n",
    "    #                       ha=\"center\", va=\"center\", color=\"w\")\n",
    "    \n",
    "    ax.set_title(\"Sequence: \"+str(i+1))\n",
    "    fig.tight_layout()\n",
    "    plt.show()"
   ]
  },
  {
   "cell_type": "code",
   "execution_count": 52,
   "metadata": {},
   "outputs": [],
   "source": [
    ""
   ]
  },
  {
   "cell_type": "code",
   "execution_count": null,
   "metadata": {},
   "outputs": [],
   "source": []
  }
 ],
 "metadata": {
  "kernelspec": {
   "display_name": "Python 2",
   "language": "python",
   "name": "python2"
  },
  "language_info": {
   "codemirror_mode": {
    "name": "ipython",
    "version": 2
   },
   "file_extension": ".py",
   "mimetype": "text/x-python",
   "name": "python",
   "nbconvert_exporter": "python",
   "pygments_lexer": "ipython2",
   "version": "2.7.6"
  }
 },
 "nbformat": 4,
 "nbformat_minor": 0
}
